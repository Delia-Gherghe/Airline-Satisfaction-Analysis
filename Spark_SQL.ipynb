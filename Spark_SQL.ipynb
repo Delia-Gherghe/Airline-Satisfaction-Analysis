{
  "nbformat": 4,
  "nbformat_minor": 0,
  "metadata": {
    "colab": {
      "provenance": []
    },
    "kernelspec": {
      "name": "python3",
      "display_name": "Python 3"
    },
    "language_info": {
      "name": "python"
    }
  },
  "cells": [
    {
      "cell_type": "markdown",
      "source": [
        "# Setul de date\n",
        "\n",
        "Vom analiza un set de date ce conține informații despre persoanele ce au efectuat zboruri cu o anumită companie aeriană cu scopul de a cunoaște nivelul de satisfacție al acestora. Dataset-ul împreună cu detalii suplimentare pot fi găsite [aici](https://www.kaggle.com/datasets/teejmahal20/airline-passenger-satisfaction).\n",
        "\n",
        "<img src=\"https://cdn-icons-png.flaticon.com/512/5566/5566691.png\" alt=\"Airplane\"/>\n",
        "\n",
        "Fișierul .csv conține următoarele coloane relevante:\n",
        "\n",
        "\n",
        "*   **Gender**: genul persoanei (**Male** sau **Female**)\n",
        "*   **Customer Type**: tipul clientului din punct de vedere al frecvenței utilizării companiei (**Loyal Customer** sau **dysloyal Customer**)\n",
        "*   **Age**: vârsta pasagerilor\n",
        "*   **Type of Travel**: scopul călătoriei (**Personal Travel** sau **Business travel**)\n",
        "*   **Class**: clasa de zbor (**Eco**, **Eco Plus** sau **Business**)\n",
        "*   **Flight distance**: distanța zborului\n",
        "*   **Inflight wifi service**: nivelul de satisfacție cu serviciul wifi la bord (**0** - N/A, **1-5**)\n",
        "*   **Departure/Arrival time convenient**: nivelul de satisfacție cu orele la care au fost programate decolare/aterizarea\n",
        "*   **Ease of Online booking**: nivelul de satisfacție cu procesul de rezervare online a biletelor\n",
        "*   **Gate location**: nivelul de satisfacție cu locația porții de îmbarcare\n",
        "*   **Food and drink**: nivelul de satisfacție cu mâncarea și băutura de la bord\n",
        "*   **Online boarding**: nivelul de satisfacție legat de procesul îmbarcării online\n",
        "*   **Seat comfort**: nivelul de satisfacție legat de confortul locului din avion\n",
        "*   **Inflight entertainment**: nivelul de satisfacție cu mijloacele de divertisment de la bord\n",
        "*   **On-board service**: nivelul de satisfacție cu serviciile de la bord\n",
        "*   **Leg room service**: nivelul de satisfacție cu spațiul locului din avion\n",
        "*   **Baggage handling**: nivelul de satisfacție cu procesul de lăsare/colectare a bagajelor\n",
        "*   **Check-in service**: nivelul de satisfacție cu procesul de Check In\n",
        "*   **Inflight service**: nivelul de satisfacție legat de serviciile însoțitorilor de zbor\n",
        "*   **Cleanliness**: nivelul de satisfacție legat de curățenie\n",
        "*   **Departure Delay in Minutes**: numărul de minute de întârziere pe care le-a avut aeronava la plecare\n",
        "*   **Arrival Delay in Minutes**: numărul de minute de întârziere pe care le-a avut aeronava la aterizare\n",
        "*   **Satisfaction**: nivelul general de satisfacție legat de companie (**satisfied** sau **neutral or dissatisfied**)"
      ],
      "metadata": {
        "id": "KJnAr6EtPRBJ"
      }
    },
    {
      "cell_type": "code",
      "execution_count": null,
      "metadata": {
        "id": "YpcEXXHqO-TI"
      },
      "outputs": [],
      "source": [
        "!pip install pyspark"
      ]
    },
    {
      "cell_type": "code",
      "source": [
        "from pyspark.sql import SparkSession\n",
        "\n",
        "spark = SparkSession.builder.appName(\"airline\").getOrCreate()"
      ],
      "metadata": {
        "id": "HOLDVq5FbCa8"
      },
      "execution_count": null,
      "outputs": []
    },
    {
      "cell_type": "code",
      "source": [
        "airline = spark.read.csv(\"/content/drive/MyDrive/Proiect Big Data/airline_satisfaction.csv\", header=True, inferSchema=True)\n",
        "\n",
        "airline.show()"
      ],
      "metadata": {
        "colab": {
          "base_uri": "https://localhost:8080/"
        },
        "id": "b7xUAMHsbVaU",
        "outputId": "9aa562de-eb0d-4166-bc21-fc1364e18020"
      },
      "execution_count": null,
      "outputs": [
        {
          "output_type": "stream",
          "name": "stdout",
          "text": [
            "+---+------+------+-----------------+---+---------------+--------+---------------+---------------------+---------------------------------+----------------------+-------------+--------------+---------------+------------+----------------------+----------------+----------------+----------------+---------------+----------------+-----------+--------------------------+------------------------+--------------------+\n",
            "|_c0|    id|Gender|    Customer Type|Age| Type of Travel|   Class|Flight Distance|Inflight wifi service|Departure/Arrival time convenient|Ease of Online booking|Gate location|Food and drink|Online boarding|Seat comfort|Inflight entertainment|On-board service|Leg room service|Baggage handling|Checkin service|Inflight service|Cleanliness|Departure Delay in Minutes|Arrival Delay in Minutes|        satisfaction|\n",
            "+---+------+------+-----------------+---+---------------+--------+---------------+---------------------+---------------------------------+----------------------+-------------+--------------+---------------+------------+----------------------+----------------+----------------+----------------+---------------+----------------+-----------+--------------------------+------------------------+--------------------+\n",
            "|  0| 70172|  Male|   Loyal Customer| 13|Personal Travel|Eco Plus|            460|                    3|                                4|                     3|            1|             5|              3|           5|                     5|               4|               3|               4|              4|               5|          5|                        25|                    18.0|neutral or dissat...|\n",
            "|  1|  5047|  Male|disloyal Customer| 25|Business travel|Business|            235|                    3|                                2|                     3|            3|             1|              3|           1|                     1|               1|               5|               3|              1|               4|          1|                         1|                     6.0|neutral or dissat...|\n",
            "|  2|110028|Female|   Loyal Customer| 26|Business travel|Business|           1142|                    2|                                2|                     2|            2|             5|              5|           5|                     5|               4|               3|               4|              4|               4|          5|                         0|                     0.0|           satisfied|\n",
            "|  3| 24026|Female|   Loyal Customer| 25|Business travel|Business|            562|                    2|                                5|                     5|            5|             2|              2|           2|                     2|               2|               5|               3|              1|               4|          2|                        11|                     9.0|neutral or dissat...|\n",
            "|  4|119299|  Male|   Loyal Customer| 61|Business travel|Business|            214|                    3|                                3|                     3|            3|             4|              5|           5|                     3|               3|               4|               4|              3|               3|          3|                         0|                     0.0|           satisfied|\n",
            "|  5|111157|Female|   Loyal Customer| 26|Personal Travel|     Eco|           1180|                    3|                                4|                     2|            1|             1|              2|           1|                     1|               3|               4|               4|              4|               4|          1|                         0|                     0.0|neutral or dissat...|\n",
            "|  6| 82113|  Male|   Loyal Customer| 47|Personal Travel|     Eco|           1276|                    2|                                4|                     2|            3|             2|              2|           2|                     2|               3|               3|               4|              3|               5|          2|                         9|                    23.0|neutral or dissat...|\n",
            "|  7| 96462|Female|   Loyal Customer| 52|Business travel|Business|           2035|                    4|                                3|                     4|            4|             5|              5|           5|                     5|               5|               5|               5|              4|               5|          4|                         4|                     0.0|           satisfied|\n",
            "|  8| 79485|Female|   Loyal Customer| 41|Business travel|Business|            853|                    1|                                2|                     2|            2|             4|              3|           3|                     1|               1|               2|               1|              4|               1|          2|                         0|                     0.0|neutral or dissat...|\n",
            "|  9| 65725|  Male|disloyal Customer| 20|Business travel|     Eco|           1061|                    3|                                3|                     3|            4|             2|              3|           3|                     2|               2|               3|               4|              4|               3|          2|                         0|                     0.0|neutral or dissat...|\n",
            "| 10| 34991|Female|disloyal Customer| 24|Business travel|     Eco|           1182|                    4|                                5|                     5|            4|             2|              5|           2|                     2|               3|               3|               5|              3|               5|          2|                         0|                     0.0|neutral or dissat...|\n",
            "| 11| 51412|Female|   Loyal Customer| 12|Personal Travel|Eco Plus|            308|                    2|                                4|                     2|            2|             1|              2|           1|                     1|               1|               2|               5|              5|               5|          1|                         0|                     0.0|neutral or dissat...|\n",
            "| 12| 98628|  Male|   Loyal Customer| 53|Business travel|     Eco|            834|                    1|                                4|                     4|            4|             1|              1|           1|                     1|               1|               1|               3|              4|               4|          1|                        28|                     8.0|neutral or dissat...|\n",
            "| 13| 83502|  Male|   Loyal Customer| 33|Personal Travel|     Eco|            946|                    4|                                2|                     4|            3|             4|              4|           4|                     4|               4|               5|               2|              2|               2|          4|                         0|                     0.0|           satisfied|\n",
            "| 14| 95789|Female|   Loyal Customer| 26|Personal Travel|     Eco|            453|                    3|                                2|                     3|            2|             2|              3|           2|                     2|               4|               3|               2|              2|               1|          2|                        43|                    35.0|neutral or dissat...|\n",
            "| 15|100580|  Male|disloyal Customer| 13|Business travel|     Eco|            486|                    2|                                1|                     2|            3|             4|              2|           1|                     4|               2|               1|               4|              1|               3|          4|                         1|                     0.0|neutral or dissat...|\n",
            "| 16| 71142|Female|   Loyal Customer| 26|Business travel|Business|           2123|                    3|                                3|                     3|            3|             4|              4|           4|                     4|               5|               3|               4|              5|               4|          4|                        49|                    51.0|           satisfied|\n",
            "| 17|127461|  Male|   Loyal Customer| 41|Business travel|Business|           2075|                    4|                                4|                     2|            4|             4|              4|           4|                     5|               5|               5|               5|              3|               5|          5|                         0|                    10.0|           satisfied|\n",
            "| 18| 70354|Female|   Loyal Customer| 45|Business travel|Business|           2486|                    4|                                4|                     4|            4|             3|              4|           5|                     5|               5|               5|               5|              3|               5|          4|                         7|                     5.0|           satisfied|\n",
            "| 19| 66246|  Male|   Loyal Customer| 38|Personal Travel|     Eco|            460|                    2|                                3|                     3|            2|             5|              3|           5|                     5|               1|               2|               4|              3|               2|          5|                        17|                    18.0|neutral or dissat...|\n",
            "+---+------+------+-----------------+---+---------------+--------+---------------+---------------------+---------------------------------+----------------------+-------------+--------------+---------------+------------+----------------------+----------------+----------------+----------------+---------------+----------------+-----------+--------------------------+------------------------+--------------------+\n",
            "only showing top 20 rows\n",
            "\n"
          ]
        }
      ]
    },
    {
      "cell_type": "markdown",
      "source": [
        "# Curățarea și transformarea datelor\n",
        "\n",
        "Deoarece primele două coloane (numărul curent și id-ul) nu ne sunt de folos, putem renunța la ele.\n",
        "\n",
        "De asmenea, observăm o inconsistență între anumite clase cu privire la scrierea cu majuscule sau minuscule (Personal **T**ravel vs Business **t**ravel, **L**oyal Customer vs **d**isloyal Customer) pe care le vom remedia."
      ],
      "metadata": {
        "id": "2W3zlxijb5jM"
      }
    },
    {
      "cell_type": "code",
      "source": [
        "from pyspark.sql.functions import initcap, substring, translate\n",
        "\n",
        "airline_clean = airline.drop(\"_c0\", \"id\")\n",
        "airline_clean = airline_clean.withColumn(\"Customer Type\", initcap(airline_clean[\"Customer Type\"]))\n",
        "airline_clean = airline_clean.withColumn(\"Type of Travel\", translate(\"Type of Travel\", 't', 'T'))\n",
        "\n",
        "airline_clean.show()"
      ],
      "metadata": {
        "colab": {
          "base_uri": "https://localhost:8080/"
        },
        "id": "tCP02xHncFym",
        "outputId": "d37866f9-4665-4a0d-ed18-9d418418da4a"
      },
      "execution_count": null,
      "outputs": [
        {
          "output_type": "stream",
          "name": "stdout",
          "text": [
            "+------+-----------------+---+---------------+--------+---------------+---------------------+---------------------------------+----------------------+-------------+--------------+---------------+------------+----------------------+----------------+----------------+----------------+---------------+----------------+-----------+--------------------------+------------------------+--------------------+\n",
            "|Gender|    Customer Type|Age| Type of Travel|   Class|Flight Distance|Inflight wifi service|Departure/Arrival time convenient|Ease of Online booking|Gate location|Food and drink|Online boarding|Seat comfort|Inflight entertainment|On-board service|Leg room service|Baggage handling|Checkin service|Inflight service|Cleanliness|Departure Delay in Minutes|Arrival Delay in Minutes|        satisfaction|\n",
            "+------+-----------------+---+---------------+--------+---------------+---------------------+---------------------------------+----------------------+-------------+--------------+---------------+------------+----------------------+----------------+----------------+----------------+---------------+----------------+-----------+--------------------------+------------------------+--------------------+\n",
            "|  Male|   Loyal Customer| 13|Personal Travel|Eco Plus|            460|                    3|                                4|                     3|            1|             5|              3|           5|                     5|               4|               3|               4|              4|               5|          5|                        25|                    18.0|neutral or dissat...|\n",
            "|  Male|Disloyal Customer| 25|Business Travel|Business|            235|                    3|                                2|                     3|            3|             1|              3|           1|                     1|               1|               5|               3|              1|               4|          1|                         1|                     6.0|neutral or dissat...|\n",
            "|Female|   Loyal Customer| 26|Business Travel|Business|           1142|                    2|                                2|                     2|            2|             5|              5|           5|                     5|               4|               3|               4|              4|               4|          5|                         0|                     0.0|           satisfied|\n",
            "|Female|   Loyal Customer| 25|Business Travel|Business|            562|                    2|                                5|                     5|            5|             2|              2|           2|                     2|               2|               5|               3|              1|               4|          2|                        11|                     9.0|neutral or dissat...|\n",
            "|  Male|   Loyal Customer| 61|Business Travel|Business|            214|                    3|                                3|                     3|            3|             4|              5|           5|                     3|               3|               4|               4|              3|               3|          3|                         0|                     0.0|           satisfied|\n",
            "|Female|   Loyal Customer| 26|Personal Travel|     Eco|           1180|                    3|                                4|                     2|            1|             1|              2|           1|                     1|               3|               4|               4|              4|               4|          1|                         0|                     0.0|neutral or dissat...|\n",
            "|  Male|   Loyal Customer| 47|Personal Travel|     Eco|           1276|                    2|                                4|                     2|            3|             2|              2|           2|                     2|               3|               3|               4|              3|               5|          2|                         9|                    23.0|neutral or dissat...|\n",
            "|Female|   Loyal Customer| 52|Business Travel|Business|           2035|                    4|                                3|                     4|            4|             5|              5|           5|                     5|               5|               5|               5|              4|               5|          4|                         4|                     0.0|           satisfied|\n",
            "|Female|   Loyal Customer| 41|Business Travel|Business|            853|                    1|                                2|                     2|            2|             4|              3|           3|                     1|               1|               2|               1|              4|               1|          2|                         0|                     0.0|neutral or dissat...|\n",
            "|  Male|Disloyal Customer| 20|Business Travel|     Eco|           1061|                    3|                                3|                     3|            4|             2|              3|           3|                     2|               2|               3|               4|              4|               3|          2|                         0|                     0.0|neutral or dissat...|\n",
            "|Female|Disloyal Customer| 24|Business Travel|     Eco|           1182|                    4|                                5|                     5|            4|             2|              5|           2|                     2|               3|               3|               5|              3|               5|          2|                         0|                     0.0|neutral or dissat...|\n",
            "|Female|   Loyal Customer| 12|Personal Travel|Eco Plus|            308|                    2|                                4|                     2|            2|             1|              2|           1|                     1|               1|               2|               5|              5|               5|          1|                         0|                     0.0|neutral or dissat...|\n",
            "|  Male|   Loyal Customer| 53|Business Travel|     Eco|            834|                    1|                                4|                     4|            4|             1|              1|           1|                     1|               1|               1|               3|              4|               4|          1|                        28|                     8.0|neutral or dissat...|\n",
            "|  Male|   Loyal Customer| 33|Personal Travel|     Eco|            946|                    4|                                2|                     4|            3|             4|              4|           4|                     4|               4|               5|               2|              2|               2|          4|                         0|                     0.0|           satisfied|\n",
            "|Female|   Loyal Customer| 26|Personal Travel|     Eco|            453|                    3|                                2|                     3|            2|             2|              3|           2|                     2|               4|               3|               2|              2|               1|          2|                        43|                    35.0|neutral or dissat...|\n",
            "|  Male|Disloyal Customer| 13|Business Travel|     Eco|            486|                    2|                                1|                     2|            3|             4|              2|           1|                     4|               2|               1|               4|              1|               3|          4|                         1|                     0.0|neutral or dissat...|\n",
            "|Female|   Loyal Customer| 26|Business Travel|Business|           2123|                    3|                                3|                     3|            3|             4|              4|           4|                     4|               5|               3|               4|              5|               4|          4|                        49|                    51.0|           satisfied|\n",
            "|  Male|   Loyal Customer| 41|Business Travel|Business|           2075|                    4|                                4|                     2|            4|             4|              4|           4|                     5|               5|               5|               5|              3|               5|          5|                         0|                    10.0|           satisfied|\n",
            "|Female|   Loyal Customer| 45|Business Travel|Business|           2486|                    4|                                4|                     4|            4|             3|              4|           5|                     5|               5|               5|               5|              3|               5|          4|                         7|                     5.0|           satisfied|\n",
            "|  Male|   Loyal Customer| 38|Personal Travel|     Eco|            460|                    2|                                3|                     3|            2|             5|              3|           5|                     5|               1|               2|               4|              3|               2|          5|                        17|                    18.0|neutral or dissat...|\n",
            "+------+-----------------+---+---------------+--------+---------------+---------------------+---------------------------------+----------------------+-------------+--------------+---------------+------------+----------------------+----------------+----------------+----------------+---------------+----------------+-----------+--------------------------+------------------------+--------------------+\n",
            "only showing top 20 rows\n",
            "\n"
          ]
        }
      ]
    },
    {
      "cell_type": "code",
      "source": [
        "# calculăm numărul de valori null din fiecare coloană\n",
        "from pyspark.sql.functions import col, isnan, when, count\n",
        "\n",
        "airline_clean.select([count(when(isnan(c) | col(c).isNull(), c)).alias(c) for c in airline_clean.columns]).show()\n",
        "print(\"Dataset contains:\", airline_clean.count(), \"rows.\")"
      ],
      "metadata": {
        "colab": {
          "base_uri": "https://localhost:8080/"
        },
        "id": "yiGTJw7M0etd",
        "outputId": "5a911b3c-1e79-4caa-ecdf-375139ec21ea"
      },
      "execution_count": null,
      "outputs": [
        {
          "output_type": "stream",
          "name": "stdout",
          "text": [
            "+------+-------------+---+--------------+-----+---------------+---------------------+---------------------------------+----------------------+-------------+--------------+---------------+------------+----------------------+----------------+----------------+----------------+---------------+----------------+-----------+--------------------------+------------------------+------------+\n",
            "|Gender|Customer Type|Age|Type of Travel|Class|Flight Distance|Inflight wifi service|Departure/Arrival time convenient|Ease of Online booking|Gate location|Food and drink|Online boarding|Seat comfort|Inflight entertainment|On-board service|Leg room service|Baggage handling|Checkin service|Inflight service|Cleanliness|Departure Delay in Minutes|Arrival Delay in Minutes|satisfaction|\n",
            "+------+-------------+---+--------------+-----+---------------+---------------------+---------------------------------+----------------------+-------------+--------------+---------------+------------+----------------------+----------------+----------------+----------------+---------------+----------------+-----------+--------------------------+------------------------+------------+\n",
            "|     0|            0|  0|             0|    0|              0|                    0|                                0|                     0|            0|             0|              0|           0|                     0|               0|               0|               0|              0|               0|          0|                         0|                     310|           0|\n",
            "+------+-------------+---+--------------+-----+---------------+---------------------+---------------------------------+----------------------+-------------+--------------+---------------+------------+----------------------+----------------+----------------+----------------+---------------+----------------+-----------+--------------------------+------------------------+------------+\n",
            "\n",
            "Dataset contains: 103904 rows.\n"
          ]
        }
      ]
    },
    {
      "cell_type": "markdown",
      "source": [
        "Observăm că singura coloană ce conține valori null este **Arrival Delay in Minutes** (310). Deoarece acest număr este foarte mic față de numărul total de linii din setul de date (103904) alegem să ștergem intrările ce conțin valori null."
      ],
      "metadata": {
        "id": "xeiA7WMp10je"
      }
    },
    {
      "cell_type": "code",
      "source": [
        "airline_data = airline_clean.na.drop()\n",
        "\n",
        "airline_data.describe().show()"
      ],
      "metadata": {
        "colab": {
          "base_uri": "https://localhost:8080/"
        },
        "id": "G-pbg3LL2b2m",
        "outputId": "b030a31b-388d-4f72-acf2-1c70b33e3852"
      },
      "execution_count": null,
      "outputs": [
        {
          "output_type": "stream",
          "name": "stdout",
          "text": [
            "+-------+------+-----------------+------------------+---------------+--------+------------------+---------------------+---------------------------------+----------------------+------------------+------------------+------------------+------------------+----------------------+------------------+------------------+------------------+-----------------+-----------------+------------------+--------------------------+------------------------+--------------------+\n",
            "|summary|Gender|    Customer Type|               Age| Type of Travel|   Class|   Flight Distance|Inflight wifi service|Departure/Arrival time convenient|Ease of Online booking|     Gate location|    Food and drink|   Online boarding|      Seat comfort|Inflight entertainment|  On-board service|  Leg room service|  Baggage handling|  Checkin service| Inflight service|       Cleanliness|Departure Delay in Minutes|Arrival Delay in Minutes|        satisfaction|\n",
            "+-------+------+-----------------+------------------+---------------+--------+------------------+---------------------+---------------------------------+----------------------+------------------+------------------+------------------+------------------+----------------------+------------------+------------------+------------------+-----------------+-----------------+------------------+--------------------------+------------------------+--------------------+\n",
            "|  count|103594|           103594|            103594|         103594|  103594|            103594|               103594|                           103594|                103594|            103594|            103594|            103594|            103594|                103594|            103594|            103594|            103594|           103594|           103594|            103594|                    103594|                  103594|              103594|\n",
            "|   mean|  null|             null|39.380466050157345|           null|    null|1189.3252022317895|    2.729752688379636|               3.0600806996544203|     2.756983995212078|2.9770256964689072|3.2021256057300618| 3.250497133038593| 3.439764851246211|    3.3583412166727804|3.3826090314110857|   3.3514006602699|3.6316871633492287|3.304322644168581|3.640761047937139|3.2863968955731027|        14.747939069830299|      15.178678301832152|                null|\n",
            "| stddev|  null|             null|15.113125274720122|           null|    null| 997.2972348259818|    1.327866240825716|               1.5252328832650188|     1.398933581655831|1.2777225047114975|1.3294012031089468|1.3494326928193783|1.3188959678875323|    1.3330303972562694|1.2882844769403756|1.3154086592272656|1.1810512785285696| 1.26539604537115|1.175603010863405|1.3121938638171298|         38.11673701639221|      38.698682020966515|                null|\n",
            "|    min|Female|Disloyal Customer|                 7|Business Travel|Business|                31|                    0|                                0|                     0|                 0|                 0|                 0|                 0|                     0|                 0|                 0|                 1|                0|                0|                 0|                         0|                     0.0|neutral or dissat...|\n",
            "|    max|  Male|   Loyal Customer|                85|Personal Travel|Eco Plus|              4983|                    5|                                5|                     5|                 5|                 5|                 5|                 5|                     5|                 5|                 5|                 5|                5|                5|                 5|                      1592|                  1584.0|           satisfied|\n",
            "+-------+------+-----------------+------------------+---------------+--------+------------------+---------------------+---------------------------------+----------------------+------------------+------------------+------------------+------------------+----------------------+------------------+------------------+------------------+-----------------+-----------------+------------------+--------------------------+------------------------+--------------------+\n",
            "\n"
          ]
        }
      ]
    },
    {
      "cell_type": "code",
      "source": [
        "# afișăm schema\n",
        "airline_data.printSchema()"
      ],
      "metadata": {
        "colab": {
          "base_uri": "https://localhost:8080/"
        },
        "id": "Z2zg9iB_2-24",
        "outputId": "c52b4bff-5918-4970-f6ec-b3f959fd3a56"
      },
      "execution_count": null,
      "outputs": [
        {
          "output_type": "stream",
          "name": "stdout",
          "text": [
            "root\n",
            " |-- Gender: string (nullable = true)\n",
            " |-- Customer Type: string (nullable = true)\n",
            " |-- Age: integer (nullable = true)\n",
            " |-- Type of Travel: string (nullable = true)\n",
            " |-- Class: string (nullable = true)\n",
            " |-- Flight Distance: integer (nullable = true)\n",
            " |-- Inflight wifi service: integer (nullable = true)\n",
            " |-- Departure/Arrival time convenient: integer (nullable = true)\n",
            " |-- Ease of Online booking: integer (nullable = true)\n",
            " |-- Gate location: integer (nullable = true)\n",
            " |-- Food and drink: integer (nullable = true)\n",
            " |-- Online boarding: integer (nullable = true)\n",
            " |-- Seat comfort: integer (nullable = true)\n",
            " |-- Inflight entertainment: integer (nullable = true)\n",
            " |-- On-board service: integer (nullable = true)\n",
            " |-- Leg room service: integer (nullable = true)\n",
            " |-- Baggage handling: integer (nullable = true)\n",
            " |-- Checkin service: integer (nullable = true)\n",
            " |-- Inflight service: integer (nullable = true)\n",
            " |-- Cleanliness: integer (nullable = true)\n",
            " |-- Departure Delay in Minutes: integer (nullable = true)\n",
            " |-- Arrival Delay in Minutes: double (nullable = true)\n",
            " |-- satisfaction: string (nullable = true)\n",
            "\n"
          ]
        }
      ]
    },
    {
      "cell_type": "markdown",
      "source": [
        "# Analiza datelor\n",
        "\n",
        "Pentru fiecare clasă și nivel general de satisfacție calculăm numărul de adulți ce au călătorit în scop profesional."
      ],
      "metadata": {
        "id": "7h-9lZgI3tZn"
      }
    },
    {
      "cell_type": "code",
      "source": [
        "airline_data.filter((airline_data[\"Age\"] >= 18) & (airline_data[\"Type of Travel\"] == \"Business Travel\")) \\\n",
        "            .groupBy([\"Class\", \"satisfaction\"]) \\\n",
        "            .count() \\\n",
        "            .orderBy(\"Class\", ascendng = [False]) \\\n",
        "            .show(truncate=False)"
      ],
      "metadata": {
        "colab": {
          "base_uri": "https://localhost:8080/"
        },
        "id": "K6TsaWm75BBt",
        "outputId": "c7ce5f57-6936-4d03-cfd3-f9ed7cfafb28"
      },
      "execution_count": null,
      "outputs": [
        {
          "output_type": "stream",
          "name": "stdout",
          "text": [
            "+--------+-----------------------+-----+\n",
            "|Class   |satisfaction           |count|\n",
            "+--------+-----------------------+-----+\n",
            "|Business|neutral or dissatisfied|12787|\n",
            "|Business|satisfied              |33663|\n",
            "|Eco     |neutral or dissatisfied|13306|\n",
            "|Eco     |satisfied              |5803 |\n",
            "|Eco Plus|neutral or dissatisfied|2199 |\n",
            "|Eco Plus|satisfied              |1473 |\n",
            "+--------+-----------------------+-----+\n",
            "\n"
          ]
        }
      ]
    },
    {
      "cell_type": "markdown",
      "source": [
        "Vrem să afișăm pentru fiecare gen și clasă: vârsta mediană, distanța minimă și maximă parcursă de persoanele satisfăcute de companie și ale căror întârzieri nu depășesc media."
      ],
      "metadata": {
        "id": "jRwN9bgL64rW"
      }
    },
    {
      "cell_type": "code",
      "source": [
        "airline_data.createOrReplaceTempView(\"airline\")"
      ],
      "metadata": {
        "id": "0VMiz1zT7T-Q"
      },
      "execution_count": null,
      "outputs": []
    },
    {
      "cell_type": "code",
      "source": [
        "spark.sql(\"\"\"SELECT Gender, Class, MEDIAN(Age) AS median_age,\n",
        "                    MIN(`Flight Distance`) AS min_distance, MAX(`Flight Distance`) AS max_distance\n",
        "             FROM airline\n",
        "             WHERE satisfaction = 'satisfied'\n",
        "             AND `Arrival Delay in Minutes` <= (SELECT AVG(`Arrival Delay in Minutes`) FROM airline)\n",
        "             AND `Departure Delay in Minutes` <= (SELECT AVG(`Departure Delay in Minutes`) FROM airline)\n",
        "             GROUP BY Gender, Class\n",
        "             ORDER BY 1, 2, 5 DESC\"\"\").show()"
      ],
      "metadata": {
        "colab": {
          "base_uri": "https://localhost:8080/"
        },
        "id": "YxRtLPnE7sWP",
        "outputId": "24ccc058-4857-4f27-af07-e34988ebe434"
      },
      "execution_count": null,
      "outputs": [
        {
          "output_type": "stream",
          "name": "stdout",
          "text": [
            "+------+--------+----------+------------+------------+\n",
            "|Gender|   Class|median_age|min_distance|max_distance|\n",
            "+------+--------+----------+------------+------------+\n",
            "|Female|Business|      44.0|          56|        4983|\n",
            "|Female|     Eco|      39.0|          31|        4963|\n",
            "|Female|Eco Plus|      38.0|          67|        2917|\n",
            "|  Male|Business|      44.0|          67|        4983|\n",
            "|  Male|     Eco|      39.0|          56|        4963|\n",
            "|  Male|Eco Plus|      39.0|          31|        4983|\n",
            "+------+--------+----------+------------+------------+\n",
            "\n"
          ]
        }
      ]
    },
    {
      "cell_type": "markdown",
      "source": [
        "Pentru fiecare tip de client, clasă și gen calculăm media, minimul și maximul mediei satisfacției față de serviciile de la bord (acolo unde există evaluări) pentru grupurile care conțin minim 4000 de persoane.\n",
        "\n",
        "Pentru a afla media notelor pe care le-au acordat pasagerii anumitor servicii vom crea o funcție definită de utilizator ce primește ca parametru un număr arbitrar de valorii de tip *nivel de satisfacție* și returnează media celor diferite de 0 (valoare ce semnifică absența unei note)."
      ],
      "metadata": {
        "id": "Bvbv5AVff1yb"
      }
    },
    {
      "cell_type": "code",
      "source": [
        "def avg_satisfaction(*args):\n",
        "  sat_sum = 0\n",
        "  sat_nr = 0\n",
        "  for sat in args:\n",
        "    if sat > 0:\n",
        "      sat_sum += sat\n",
        "      sat_nr += 1\n",
        "  return sat_sum / sat_nr"
      ],
      "metadata": {
        "id": "aa7Oa9D-jbzY"
      },
      "execution_count": null,
      "outputs": []
    },
    {
      "cell_type": "code",
      "source": [
        "# înregistrăm funcția definită anterior ca udf în Spark\n",
        "from pyspark.sql.functions import udf\n",
        "from pyspark.sql.types import DoubleType\n",
        "\n",
        "avg_satisfaction_udf = udf(lambda *z : avg_satisfaction(*z), DoubleType())"
      ],
      "metadata": {
        "id": "kwqaZpUFkHJz"
      },
      "execution_count": null,
      "outputs": []
    },
    {
      "cell_type": "code",
      "source": [
        "airline_data_avg_sat = airline_data.withColumn(\"Average on board satisfaction\", \\\n",
        "                                               avg_satisfaction_udf(col(\"Inflight wifi service\"), \\\n",
        "                                                                    col(\"Food and drink\"), \\\n",
        "                                                                    col(\"Seat comfort\"), \\\n",
        "                                                                    col(\"Inflight entertainment\"), \\\n",
        "                                                                    col(\"On-board service\"), \\\n",
        "                                                                    col(\"Leg room service\"), \\\n",
        "                                                                    col(\"Inflight service\"), \\\n",
        "                                                                    col(\"Cleanliness\")))\n",
        "\n",
        "# adăugăm o coloană separată ce reține media notelor serviciilor de la bord\n",
        "airline_data_avg_sat.show(5)"
      ],
      "metadata": {
        "colab": {
          "base_uri": "https://localhost:8080/"
        },
        "id": "GifjF-6vmXwI",
        "outputId": "e001cf43-3821-4c42-cec2-05cc5901f4d2"
      },
      "execution_count": null,
      "outputs": [
        {
          "output_type": "stream",
          "name": "stdout",
          "text": [
            "+------+-----------------+---+---------------+--------+---------------+---------------------+---------------------------------+----------------------+-------------+--------------+---------------+------------+----------------------+----------------+----------------+----------------+---------------+----------------+-----------+--------------------------+------------------------+--------------------+-----------------------------+\n",
            "|Gender|    Customer Type|Age| Type of Travel|   Class|Flight Distance|Inflight wifi service|Departure/Arrival time convenient|Ease of Online booking|Gate location|Food and drink|Online boarding|Seat comfort|Inflight entertainment|On-board service|Leg room service|Baggage handling|Checkin service|Inflight service|Cleanliness|Departure Delay in Minutes|Arrival Delay in Minutes|        satisfaction|Average on board satisfaction|\n",
            "+------+-----------------+---+---------------+--------+---------------+---------------------+---------------------------------+----------------------+-------------+--------------+---------------+------------+----------------------+----------------+----------------+----------------+---------------+----------------+-----------+--------------------------+------------------------+--------------------+-----------------------------+\n",
            "|  Male|   Loyal Customer| 13|Personal Travel|Eco Plus|            460|                    3|                                4|                     3|            1|             5|              3|           5|                     5|               4|               3|               4|              4|               5|          5|                        25|                    18.0|neutral or dissat...|                        4.375|\n",
            "|  Male|Disloyal Customer| 25|Business Travel|Business|            235|                    3|                                2|                     3|            3|             1|              3|           1|                     1|               1|               5|               3|              1|               4|          1|                         1|                     6.0|neutral or dissat...|                        2.125|\n",
            "|Female|   Loyal Customer| 26|Business Travel|Business|           1142|                    2|                                2|                     2|            2|             5|              5|           5|                     5|               4|               3|               4|              4|               4|          5|                         0|                     0.0|           satisfied|                        4.125|\n",
            "|Female|   Loyal Customer| 25|Business Travel|Business|            562|                    2|                                5|                     5|            5|             2|              2|           2|                     2|               2|               5|               3|              1|               4|          2|                        11|                     9.0|neutral or dissat...|                        2.625|\n",
            "|  Male|   Loyal Customer| 61|Business Travel|Business|            214|                    3|                                3|                     3|            3|             4|              5|           5|                     3|               3|               4|               4|              3|               3|          3|                         0|                     0.0|           satisfied|                          3.5|\n",
            "+------+-----------------+---+---------------+--------+---------------+---------------------+---------------------------------+----------------------+-------------+--------------+---------------+------------+----------------------+----------------+----------------+----------------+---------------+----------------+-----------+--------------------------+------------------------+--------------------+-----------------------------+\n",
            "only showing top 5 rows\n",
            "\n"
          ]
        }
      ]
    },
    {
      "cell_type": "code",
      "source": [
        "from pyspark.sql.functions import min, max, avg\n",
        "\n",
        "airline_data_avg_sat.groupBy([\"Customer Type\", \"Class\", \"Gender\"]) \\\n",
        "                    .agg(min(\"Average on board satisfaction\").alias(\"min_sat\"), \\\n",
        "                         avg(\"Average on board satisfaction\").alias(\"avg_sat\"), \\\n",
        "                         max(\"Average on board satisfaction\").alias(\"max_sat\"), \\\n",
        "                         count('*').alias(\"count\")) \\\n",
        "                    .filter(\"count > 4000\") \\\n",
        "                    .drop(\"count\") \\\n",
        "                    .show()"
      ],
      "metadata": {
        "colab": {
          "base_uri": "https://localhost:8080/"
        },
        "id": "4HK5jSZXnoI8",
        "outputId": "c0d6257c-5cde-4c77-8843-c9c65edfe5b4"
      },
      "execution_count": null,
      "outputs": [
        {
          "output_type": "stream",
          "name": "stdout",
          "text": [
            "+-----------------+--------+------+-------+------------------+-------+\n",
            "|    Customer Type|   Class|Gender|min_sat|           avg_sat|max_sat|\n",
            "+-----------------+--------+------+-------+------------------+-------+\n",
            "|   Loyal Customer|     Eco|Female|  1.125|3.1217449942940165|    5.0|\n",
            "|Disloyal Customer|     Eco|  Male|   1.25| 3.031726595076255|    5.0|\n",
            "|   Loyal Customer|Business|Female|    1.0| 3.569775085175314|    5.0|\n",
            "|   Loyal Customer|Business|  Male|    1.0| 3.573174505508376|    5.0|\n",
            "|Disloyal Customer|     Eco|Female|  1.125| 3.012797365754813|    5.0|\n",
            "|   Loyal Customer|     Eco|  Male|  1.125| 3.148047057722893|    5.0|\n",
            "+-----------------+--------+------+-------+------------------+-------+\n",
            "\n"
          ]
        }
      ]
    },
    {
      "cell_type": "markdown",
      "source": [
        "Pentru fiecare nivel de întârzieri (stabilit cu ajutorul unei funcții definite de utilizator ce calculează suma dintre întârzierile de la decolare și aterizare și asignează una din clasele *No Delay, Small, Average, Long*) afișăm media distanțelor pentru tipul cel mai frecvent de pasageri din grupul respectiv."
      ],
      "metadata": {
        "id": "R5ES7ytxsnfA"
      }
    },
    {
      "cell_type": "code",
      "source": [
        "def delay(departure, arrival):\n",
        "  sum_minutes = departure + arrival\n",
        "  if sum_minutes == 0:\n",
        "    return \"No Delay\"\n",
        "  elif sum_minutes > 0 and sum_minutes <= 10:\n",
        "    return \"Small\"\n",
        "  elif sum_minutes > 10 and sum_minutes <= 60:\n",
        "    return \"Average\"\n",
        "  elif sum_minutes > 60:\n",
        "    return \"Long\""
      ],
      "metadata": {
        "id": "QjqmLkc4UWzZ"
      },
      "execution_count": null,
      "outputs": []
    },
    {
      "cell_type": "code",
      "source": [
        "# înregistrăm funcția în sesiune pentru a o pute folosi în cereri SQL\n",
        "from pyspark.sql.types import StringType\n",
        "\n",
        "spark.udf.register(\"delay_udf\", delay, StringType())"
      ],
      "metadata": {
        "colab": {
          "base_uri": "https://localhost:8080/"
        },
        "id": "nxvmoktpVIYd",
        "outputId": "bcb72d45-d5b7-45e6-bc6c-613ffcbf744e"
      },
      "execution_count": null,
      "outputs": [
        {
          "output_type": "execute_result",
          "data": {
            "text/plain": [
              "<function __main__.delay(departure, arrival)>"
            ]
          },
          "metadata": {},
          "execution_count": 17
        }
      ]
    },
    {
      "cell_type": "code",
      "source": [
        "spark.sql(\"\"\"WITH aux AS (SELECT delay_udf(`Departure Delay in Minutes`, `Arrival Delay in Minutes`) AS Delay,\n",
        "                                 `Customer Type`, ROUND(AVG(`Flight Distance`), 2) AS AvgDist, COUNT(*) AS c\n",
        "                          FROM airline\n",
        "                          GROUP BY delay_udf(`Departure Delay in Minutes`, `Arrival Delay in Minutes`), `Customer Type`)\n",
        "             SELECT Delay, `Customer Type`, AvgDist\n",
        "             FROM aux a\n",
        "             WHERE c = (SELECT MAX(c)\n",
        "                        FROM aux\n",
        "                        WHERE delay = a.delay)\"\"\").show()"
      ],
      "metadata": {
        "colab": {
          "base_uri": "https://localhost:8080/"
        },
        "id": "qAuTK_ZrZhpW",
        "outputId": "ceb21281-c0fa-41d1-9fe9-b8e849adc1c6"
      },
      "execution_count": null,
      "outputs": [
        {
          "output_type": "stream",
          "name": "stdout",
          "text": [
            "+--------+--------------+-------+\n",
            "|   Delay| Customer Type|AvgDist|\n",
            "+--------+--------------+-------+\n",
            "|No Delay|Loyal Customer|1276.39|\n",
            "| Average|Loyal Customer|1321.95|\n",
            "|   Small|Loyal Customer|1326.44|\n",
            "|    Long|Loyal Customer|1275.85|\n",
            "+--------+--------------+-------+\n",
            "\n"
          ]
        }
      ]
    }
  ]
}