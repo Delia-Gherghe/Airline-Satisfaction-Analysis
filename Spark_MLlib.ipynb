{
  "nbformat": 4,
  "nbformat_minor": 0,
  "metadata": {
    "colab": {
      "provenance": [],
      "gpuType": "T4"
    },
    "kernelspec": {
      "name": "python3",
      "display_name": "Python 3"
    },
    "language_info": {
      "name": "python"
    }
  },
  "cells": [
    {
      "cell_type": "markdown",
      "source": [
        "# Prezicerea satisfacției față de o companie aeriană"
      ],
      "metadata": {
        "id": "bg6Xe4rBDxHF"
      }
    },
    {
      "cell_type": "code",
      "execution_count": null,
      "metadata": {
        "id": "kAk9J7b7jgaE"
      },
      "outputs": [],
      "source": [
        "!pip install pyspark"
      ]
    },
    {
      "cell_type": "code",
      "source": [
        "from pyspark.sql import SparkSession\n",
        "\n",
        "spark = SparkSession.builder.appName(\"airline satisfaction\").getOrCreate()"
      ],
      "metadata": {
        "id": "r8yOv9IZkBRF"
      },
      "execution_count": null,
      "outputs": []
    },
    {
      "cell_type": "markdown",
      "source": [
        "## Pregătirea datelor"
      ],
      "metadata": {
        "id": "dnktOdZmF7DF"
      }
    },
    {
      "cell_type": "code",
      "source": [
        "airline = spark.read.csv(\"/content/drive/MyDrive/Proiect Big Data/airline_satisfaction.csv\", header=True, inferSchema=True)\n",
        "airline_clean = airline.drop(\"_c0\", \"id\")\n",
        "airline_data = airline_clean.na.drop()\n",
        "airline_data.show(5)"
      ],
      "metadata": {
        "colab": {
          "base_uri": "https://localhost:8080/"
        },
        "id": "FCzxw0dlkY4A",
        "outputId": "0b654c97-daaa-4696-d098-eea2ff4fdba2"
      },
      "execution_count": null,
      "outputs": [
        {
          "output_type": "stream",
          "name": "stdout",
          "text": [
            "+------+-----------------+---+---------------+--------+---------------+---------------------+---------------------------------+----------------------+-------------+--------------+---------------+------------+----------------------+----------------+----------------+----------------+---------------+----------------+-----------+--------------------------+------------------------+--------------------+\n",
            "|Gender|    Customer Type|Age| Type of Travel|   Class|Flight Distance|Inflight wifi service|Departure/Arrival time convenient|Ease of Online booking|Gate location|Food and drink|Online boarding|Seat comfort|Inflight entertainment|On-board service|Leg room service|Baggage handling|Checkin service|Inflight service|Cleanliness|Departure Delay in Minutes|Arrival Delay in Minutes|        satisfaction|\n",
            "+------+-----------------+---+---------------+--------+---------------+---------------------+---------------------------------+----------------------+-------------+--------------+---------------+------------+----------------------+----------------+----------------+----------------+---------------+----------------+-----------+--------------------------+------------------------+--------------------+\n",
            "|  Male|   Loyal Customer| 13|Personal Travel|Eco Plus|            460|                    3|                                4|                     3|            1|             5|              3|           5|                     5|               4|               3|               4|              4|               5|          5|                        25|                    18.0|neutral or dissat...|\n",
            "|  Male|disloyal Customer| 25|Business travel|Business|            235|                    3|                                2|                     3|            3|             1|              3|           1|                     1|               1|               5|               3|              1|               4|          1|                         1|                     6.0|neutral or dissat...|\n",
            "|Female|   Loyal Customer| 26|Business travel|Business|           1142|                    2|                                2|                     2|            2|             5|              5|           5|                     5|               4|               3|               4|              4|               4|          5|                         0|                     0.0|           satisfied|\n",
            "|Female|   Loyal Customer| 25|Business travel|Business|            562|                    2|                                5|                     5|            5|             2|              2|           2|                     2|               2|               5|               3|              1|               4|          2|                        11|                     9.0|neutral or dissat...|\n",
            "|  Male|   Loyal Customer| 61|Business travel|Business|            214|                    3|                                3|                     3|            3|             4|              5|           5|                     3|               3|               4|               4|              3|               3|          3|                         0|                     0.0|           satisfied|\n",
            "+------+-----------------+---+---------------+--------+---------------+---------------------+---------------------------------+----------------------+-------------+--------------+---------------+------------+----------------------+----------------+----------------+----------------+---------------+----------------+-----------+--------------------------+------------------------+--------------------+\n",
            "only showing top 5 rows\n",
            "\n"
          ]
        }
      ]
    },
    {
      "cell_type": "markdown",
      "source": [
        "Scopul următoarelor metode de Machine Learning este de a prezice nivelul general de satisfacție a unui pasager (**satisfied** sau **neutral or dissatisfied**) față de compania aeriană pe baza informațiilor despre zboruri și a evaluărilor diferitelor servicii.\n",
        "\n",
        "Pentru toate modelele propuse vom transforma variabilele categoriale **Gender**, **Customer Type**, **Type of Travel** și **Class** în variabile numerice cu ajutorul *One-Hot Encoding*. De asemenea, valorile coloanei țintă **satisfaction** vor fi transformate în valori binare astfel:\n",
        "\n",
        "* **satisfied** -> 1\n",
        "* **neutral or dissatisfied** -> 0\n",
        "\n",
        "Deoarece problema este una de clasificare binară, vom folosi pentru început **regresia logistică** pentru a face predicțiile.\n",
        "\n",
        "Pentru a înlănțui pașii necesari pentru obținerea rezultatelor vom folosi un Pipeline."
      ],
      "metadata": {
        "id": "7XF4YWLdkjZ8"
      }
    },
    {
      "cell_type": "code",
      "source": [
        "from pyspark.sql.functions import when, col\n",
        "\n",
        "airline_data = airline_data.withColumn(\"label\", when(col(\"satisfaction\") == \"satisfied\", 1).otherwise(0))\n",
        "airline_data.show(5)"
      ],
      "metadata": {
        "colab": {
          "base_uri": "https://localhost:8080/"
        },
        "id": "59NqMUN4oXp0",
        "outputId": "9175c702-1652-4293-bbc4-612b98a37ee9"
      },
      "execution_count": null,
      "outputs": [
        {
          "output_type": "stream",
          "name": "stdout",
          "text": [
            "+------+-----------------+---+---------------+--------+---------------+---------------------+---------------------------------+----------------------+-------------+--------------+---------------+------------+----------------------+----------------+----------------+----------------+---------------+----------------+-----------+--------------------------+------------------------+--------------------+-----+\n",
            "|Gender|    Customer Type|Age| Type of Travel|   Class|Flight Distance|Inflight wifi service|Departure/Arrival time convenient|Ease of Online booking|Gate location|Food and drink|Online boarding|Seat comfort|Inflight entertainment|On-board service|Leg room service|Baggage handling|Checkin service|Inflight service|Cleanliness|Departure Delay in Minutes|Arrival Delay in Minutes|        satisfaction|label|\n",
            "+------+-----------------+---+---------------+--------+---------------+---------------------+---------------------------------+----------------------+-------------+--------------+---------------+------------+----------------------+----------------+----------------+----------------+---------------+----------------+-----------+--------------------------+------------------------+--------------------+-----+\n",
            "|  Male|   Loyal Customer| 13|Personal Travel|Eco Plus|            460|                    3|                                4|                     3|            1|             5|              3|           5|                     5|               4|               3|               4|              4|               5|          5|                        25|                    18.0|neutral or dissat...|    0|\n",
            "|  Male|disloyal Customer| 25|Business travel|Business|            235|                    3|                                2|                     3|            3|             1|              3|           1|                     1|               1|               5|               3|              1|               4|          1|                         1|                     6.0|neutral or dissat...|    0|\n",
            "|Female|   Loyal Customer| 26|Business travel|Business|           1142|                    2|                                2|                     2|            2|             5|              5|           5|                     5|               4|               3|               4|              4|               4|          5|                         0|                     0.0|           satisfied|    1|\n",
            "|Female|   Loyal Customer| 25|Business travel|Business|            562|                    2|                                5|                     5|            5|             2|              2|           2|                     2|               2|               5|               3|              1|               4|          2|                        11|                     9.0|neutral or dissat...|    0|\n",
            "|  Male|   Loyal Customer| 61|Business travel|Business|            214|                    3|                                3|                     3|            3|             4|              5|           5|                     3|               3|               4|               4|              3|               3|          3|                         0|                     0.0|           satisfied|    1|\n",
            "+------+-----------------+---+---------------+--------+---------------+---------------------+---------------------------------+----------------------+-------------+--------------+---------------+------------+----------------------+----------------+----------------+----------------+---------------+----------------+-----------+--------------------------+------------------------+--------------------+-----+\n",
            "only showing top 5 rows\n",
            "\n"
          ]
        }
      ]
    },
    {
      "cell_type": "code",
      "source": [
        "# împărțirea în date de train și test\n",
        "train_airline_data, test_airline_data = airline_data.randomSplit([0.7, 0.3], seed=22)"
      ],
      "metadata": {
        "id": "_RD05-QrvWEJ"
      },
      "execution_count": null,
      "outputs": []
    },
    {
      "cell_type": "markdown",
      "source": [
        "## Regresie Logistică"
      ],
      "metadata": {
        "id": "6tApKt-3GLtG"
      }
    },
    {
      "cell_type": "code",
      "source": [
        "from pyspark.ml.feature import VectorAssembler, StringIndexer, OneHotEncoder\n",
        "from pyspark.ml.classification import LogisticRegression\n",
        "\n",
        "# transformarea variabilelor categoriale\n",
        "gender_indexer = StringIndexer(inputCol=\"Gender\", outputCol=\"Gender Index\")\n",
        "customer_type_indexer = StringIndexer(inputCol=\"Customer Type\", outputCol=\"Customer Type Index\")\n",
        "travel_type_indexer = StringIndexer(inputCol=\"Type of Travel\", outputCol=\"Travel Type Index\")\n",
        "class_indexer = StringIndexer(inputCol=\"Class\", outputCol=\"Class Index\")\n",
        "ohe = OneHotEncoder(inputCols=[\"Gender Index\", \"Customer Type Index\", \"Travel Type Index\", \"Class Index\"], \\\n",
        "                    outputCols=[\"Gender OHE\", \"Customer Type OHE\", \"Travel Type OHE\", \"Class OHE\"])\n",
        "\n",
        "# alegerea și asamblarea coloanelor de tip feature\n",
        "cols = [c for c in airline_data.columns if c not in [\"Gender\", \"Customer Type\", \"Type of Travel\", \"Class\", \"satisfaction\", \"label\"]]\n",
        "cols.extend([\"Gender OHE\", \"Customer Type OHE\", \"Travel Type OHE\", \"Class OHE\"])\n",
        "assembler = VectorAssembler(inputCols=cols, outputCol=\"features\")\n",
        "\n",
        "# definirea modelului\n",
        "log_reg = LogisticRegression(featuresCol=\"features\", labelCol=\"label\")"
      ],
      "metadata": {
        "id": "4SfEJv7dpe2i"
      },
      "execution_count": null,
      "outputs": []
    },
    {
      "cell_type": "code",
      "source": [
        "# definirea pipeline-ului\n",
        "from pyspark.ml import Pipeline\n",
        "\n",
        "log_reg_pipeline = Pipeline(stages=[gender_indexer, customer_type_indexer, travel_type_indexer, class_indexer, ohe, assembler, log_reg])"
      ],
      "metadata": {
        "id": "sTuB-IlWuRqN"
      },
      "execution_count": null,
      "outputs": []
    },
    {
      "cell_type": "code",
      "source": [
        "# antrenarea modelului\n",
        "fit_log_reg_model = log_reg_pipeline.fit(train_airline_data)"
      ],
      "metadata": {
        "id": "dgKWUKqwvuxw"
      },
      "execution_count": null,
      "outputs": []
    },
    {
      "cell_type": "code",
      "source": [
        "# efectuarea predicțiilor\n",
        "pred_log_reg = fit_log_reg_model.transform(test_airline_data)"
      ],
      "metadata": {
        "id": "1SeyGyQ5w6C9"
      },
      "execution_count": null,
      "outputs": []
    },
    {
      "cell_type": "code",
      "source": [
        "# evaluarea modelului cu ajutorul metricii Area Under the Curve\n",
        "from pyspark.ml.evaluation import BinaryClassificationEvaluator\n",
        "\n",
        "log_reg_eval = BinaryClassificationEvaluator(rawPredictionCol='prediction', labelCol='label')\n",
        "log_reg_eval.evaluate(pred_log_reg)"
      ],
      "metadata": {
        "colab": {
          "base_uri": "https://localhost:8080/"
        },
        "id": "3zNtr2iLx5uV",
        "outputId": "c32f0dec-d95a-47bf-bc73-ff0adf1397f5"
      },
      "execution_count": null,
      "outputs": [
        {
          "output_type": "execute_result",
          "data": {
            "text/plain": [
              "0.8690452202942274"
            ]
          },
          "metadata": {},
          "execution_count": 10
        }
      ]
    },
    {
      "cell_type": "code",
      "source": [
        "# afișarea matricei de confuzie\n",
        "from pyspark.mllib.evaluation import MulticlassMetrics\n",
        "from pyspark.sql.types import FloatType\n",
        "\n",
        "preds_and_labels_log_reg = pred_log_reg.select([\"prediction\", \"label\"]).withColumn(\"label\", col(\"label\").cast(FloatType())).orderBy(\"prediction\")\n",
        "metrics = MulticlassMetrics(preds_and_labels_log_reg.rdd.map(tuple))\n",
        "print(metrics.confusionMatrix().toArray())"
      ],
      "metadata": {
        "colab": {
          "base_uri": "https://localhost:8080/"
        },
        "id": "8hZUh1pTzL72",
        "outputId": "8fc55cc3-9235-493d-8320-a1035534d0a9"
      },
      "execution_count": null,
      "outputs": [
        {
          "output_type": "stream",
          "name": "stderr",
          "text": [
            "/usr/local/lib/python3.10/dist-packages/pyspark/sql/context.py:157: FutureWarning: Deprecated in 3.0.0. Use SparkSession.builder.getOrCreate() instead.\n",
            "  warnings.warn(\n"
          ]
        },
        {
          "output_type": "stream",
          "name": "stdout",
          "text": [
            "[[16041.  1677.]\n",
            " [ 2255. 11227.]]\n"
          ]
        }
      ]
    },
    {
      "cell_type": "markdown",
      "source": [
        "Fiind o problemă de clasificare, un al doilea model pe care îl putem încerca este **Random Forest**.\n",
        "\n",
        "Deoarece acest algoritm are un număr semnificativ de hiperparametrii vom dori optimizarea acestora prin intermediul **Grid Search** și al metodei **Cross Validation** cu 3 diviziuni.\n",
        "\n",
        "De asemenea, vom utiliza un pipeline pentru crearea caracteristicilor în formatul dorit și antrenarea modelului."
      ],
      "metadata": {
        "id": "3uLjSq8qFPHu"
      }
    },
    {
      "cell_type": "markdown",
      "source": [
        "## Random Forest"
      ],
      "metadata": {
        "id": "bLrYzP29IUZE"
      }
    },
    {
      "cell_type": "code",
      "source": [
        "# instanțierea modelului\n",
        "from pyspark.ml.classification import RandomForestClassifier\n",
        "\n",
        "rf = RandomForestClassifier(featuresCol=\"features\", labelCol=\"label\", seed=100)"
      ],
      "metadata": {
        "id": "I_B6mVlnHQdl"
      },
      "execution_count": null,
      "outputs": []
    },
    {
      "cell_type": "code",
      "source": [
        "# definirea pipeline-ului\n",
        "rf_pipeline = Pipeline(stages=[gender_indexer, customer_type_indexer, travel_type_indexer, class_indexer, ohe, assembler, rf])"
      ],
      "metadata": {
        "id": "aG1N18jaI4Cj"
      },
      "execution_count": null,
      "outputs": []
    },
    {
      "cell_type": "code",
      "source": [
        "# definirea gridului de parametrii\n",
        "from pyspark.ml.tuning import ParamGridBuilder\n",
        "\n",
        "paramGrid = ParamGridBuilder() \\\n",
        "            .addGrid(rf.bootstrap, [True]) \\\n",
        "            .addGrid(rf.maxDepth, [5, 10, 15]) \\\n",
        "            .addGrid(rf.numTrees, [100, 200]) \\\n",
        "            .build()"
      ],
      "metadata": {
        "id": "UFm_L3A-JNDo"
      },
      "execution_count": null,
      "outputs": []
    },
    {
      "cell_type": "code",
      "source": [
        "# aplicarea Cross Validation cu 3 diviziuni\n",
        "from pyspark.ml.tuning import CrossValidator\n",
        "\n",
        "crossval = CrossValidator(estimator=rf_pipeline,\n",
        "                          estimatorParamMaps=paramGrid,\n",
        "                          evaluator=BinaryClassificationEvaluator(),\n",
        "                          numFolds=3)"
      ],
      "metadata": {
        "id": "feZppO8ILGyv"
      },
      "execution_count": null,
      "outputs": []
    },
    {
      "cell_type": "code",
      "source": [
        "# antrenarea modelului\n",
        "rf_fit = crossval.fit(train_airline_data)"
      ],
      "metadata": {
        "id": "YrPywBoJLpPM"
      },
      "execution_count": null,
      "outputs": []
    },
    {
      "cell_type": "code",
      "source": [
        "# efectuarea predicțiilor\n",
        "pred_rf = rf_fit.transform(test_airline_data)"
      ],
      "metadata": {
        "id": "Yo8chl3vpdU_"
      },
      "execution_count": null,
      "outputs": []
    },
    {
      "cell_type": "code",
      "source": [
        "# evaluarea modelului cu ajutorul metricii Area Under the Curve\n",
        "rf_eval = BinaryClassificationEvaluator(rawPredictionCol='prediction', labelCol='label')\n",
        "rf_eval.evaluate(pred_rf)"
      ],
      "metadata": {
        "colab": {
          "base_uri": "https://localhost:8080/"
        },
        "id": "pBD5LcQip331",
        "outputId": "aa9b63a5-8e97-41ec-c7a3-51489a95ffc5"
      },
      "execution_count": null,
      "outputs": [
        {
          "output_type": "execute_result",
          "data": {
            "text/plain": [
              "0.9563298279382983"
            ]
          },
          "metadata": {},
          "execution_count": 19
        }
      ]
    },
    {
      "cell_type": "markdown",
      "source": [
        "Observăm că optimizarea hiperparametrilor modelului Random Forest a adus o îmbunătățire semnificativă față de regresia logistică cu parametrii default."
      ],
      "metadata": {
        "id": "NO0mu6a4qMzR"
      }
    },
    {
      "cell_type": "code",
      "source": [
        "# afișarea matricei de confuzie\n",
        "preds_and_labels_rf = pred_rf.select([\"prediction\", \"label\"]).withColumn(\"label\", col(\"label\").cast(FloatType())).orderBy(\"prediction\")\n",
        "metrics = MulticlassMetrics(preds_and_labels_rf.rdd.map(tuple))\n",
        "print(metrics.confusionMatrix().toArray())"
      ],
      "metadata": {
        "colab": {
          "base_uri": "https://localhost:8080/"
        },
        "id": "pY1w0CqQqjpm",
        "outputId": "55d24fae-bb18-42ff-fa27-499dfb29e75a"
      },
      "execution_count": null,
      "outputs": [
        {
          "output_type": "stream",
          "name": "stdout",
          "text": [
            "[[17281.   437.]\n",
            " [  845. 12637.]]\n"
          ]
        }
      ]
    },
    {
      "cell_type": "code",
      "source": [
        "# afișarea de metrici suplimentare (accuracy, precision, recall, f1)\n",
        "print(f\"Accuracy: {metrics.accuracy}\")\n",
        "print(f\"Precision for 'satisfied': {metrics.precision(1.0)} \\t Precision for 'neutral or dissatisfied': {metrics.precision(0.0)}\")\n",
        "print(f\"Recall for 'satisfied': {metrics.recall(1.0)} \\t Recall for 'neutral or dissatisfied': {metrics.recall(0.0)}\")\n",
        "print(f\"f1 score for 'satisfied': {metrics.fMeasure(1.0)} \\t f1 score for 'neutral or dissatisfied': {metrics.fMeasure(0.0)}\")"
      ],
      "metadata": {
        "colab": {
          "base_uri": "https://localhost:8080/"
        },
        "id": "kdGfsheStbD3",
        "outputId": "4a958f67-5ca3-4809-b58b-5ce94b5c6234"
      },
      "execution_count": null,
      "outputs": [
        {
          "output_type": "stream",
          "name": "stdout",
          "text": [
            "Accuracy: 0.9589102564102564\n",
            "Precision for 'satisfied': 0.9665748814440875 \t Precision for 'neutral or dissatisfied': 0.9533818823789032\n",
            "Recall for 'satisfied': 0.9373238391929981 \t Recall for 'neutral or dissatisfied': 0.9753358166835986\n",
            "f1 score for 'satisfied': 0.9517246573279109 \t f1 score for 'neutral or dissatisfied': 0.9642339024662425\n"
          ]
        }
      ]
    },
    {
      "cell_type": "markdown",
      "source": [
        "Observăm cum clasificatorul are o performanță ușor mai bună pentru clasa **neutral or dissatisfied**."
      ],
      "metadata": {
        "id": "IQ9aeHaYvj73"
      }
    }
  ]
}