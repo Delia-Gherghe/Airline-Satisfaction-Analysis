{
  "nbformat": 4,
  "nbformat_minor": 0,
  "metadata": {
    "colab": {
      "provenance": []
    },
    "kernelspec": {
      "name": "python3",
      "display_name": "Python 3"
    },
    "language_info": {
      "name": "python"
    }
  },
  "cells": [
    {
      "cell_type": "markdown",
      "source": [
        "# Inferența în timp real a satisfacției față de o companie aeriană cu ajutorul Spark Structured Streaming\n",
        "\n",
        "În continuare vom folosi clasificatorul cu ajutorul căruia am obținut cele mai bune performanțe (**Random Forest**) pentru a prezice în timp real satisfacția pasagerilor din setul de date de test față de compania aeriană."
      ],
      "metadata": {
        "id": "tY2zOxv8KRrW"
      }
    },
    {
      "cell_type": "code",
      "execution_count": null,
      "metadata": {
        "id": "rzUF_nCCJ4h3"
      },
      "outputs": [],
      "source": [
        "!pip install pyspark"
      ]
    },
    {
      "cell_type": "code",
      "source": [
        "from pyspark.sql import SparkSession\n",
        "\n",
        "spark = SparkSession.builder.appName(\"airline satisfaction streaming\").getOrCreate()"
      ],
      "metadata": {
        "id": "R8JrF9nTK45g"
      },
      "execution_count": null,
      "outputs": []
    },
    {
      "cell_type": "markdown",
      "source": [
        "## Aplicarea pașilor de pregătire a datelor și a modelului pe setul de date static."
      ],
      "metadata": {
        "id": "tYjCSTKmQ2JQ"
      }
    },
    {
      "cell_type": "code",
      "source": [
        "from pyspark.sql.functions import when, col\n",
        "\n",
        "airline = spark.read.csv(\"/content/drive/MyDrive/Proiect Big Data/airline_satisfaction.csv\", header=True, inferSchema=True) \\\n",
        "               .drop(\"_c0\", \"id\").na.drop().withColumn(\"label\", when(col(\"satisfaction\") == \"satisfied\", 1).otherwise(0))\n",
        "airline.show(5)"
      ],
      "metadata": {
        "colab": {
          "base_uri": "https://localhost:8080/"
        },
        "id": "rqfr1kiuK9O5",
        "outputId": "cf4cbbdf-be92-447a-d3f0-3514574e7f5c"
      },
      "execution_count": null,
      "outputs": [
        {
          "output_type": "stream",
          "name": "stdout",
          "text": [
            "+------+-----------------+---+---------------+--------+---------------+---------------------+---------------------------------+----------------------+-------------+--------------+---------------+------------+----------------------+----------------+----------------+----------------+---------------+----------------+-----------+--------------------------+------------------------+--------------------+-----+\n",
            "|Gender|    Customer Type|Age| Type of Travel|   Class|Flight Distance|Inflight wifi service|Departure/Arrival time convenient|Ease of Online booking|Gate location|Food and drink|Online boarding|Seat comfort|Inflight entertainment|On-board service|Leg room service|Baggage handling|Checkin service|Inflight service|Cleanliness|Departure Delay in Minutes|Arrival Delay in Minutes|        satisfaction|label|\n",
            "+------+-----------------+---+---------------+--------+---------------+---------------------+---------------------------------+----------------------+-------------+--------------+---------------+------------+----------------------+----------------+----------------+----------------+---------------+----------------+-----------+--------------------------+------------------------+--------------------+-----+\n",
            "|  Male|   Loyal Customer| 13|Personal Travel|Eco Plus|            460|                    3|                                4|                     3|            1|             5|              3|           5|                     5|               4|               3|               4|              4|               5|          5|                        25|                    18.0|neutral or dissat...|    0|\n",
            "|  Male|disloyal Customer| 25|Business travel|Business|            235|                    3|                                2|                     3|            3|             1|              3|           1|                     1|               1|               5|               3|              1|               4|          1|                         1|                     6.0|neutral or dissat...|    0|\n",
            "|Female|   Loyal Customer| 26|Business travel|Business|           1142|                    2|                                2|                     2|            2|             5|              5|           5|                     5|               4|               3|               4|              4|               4|          5|                         0|                     0.0|           satisfied|    1|\n",
            "|Female|   Loyal Customer| 25|Business travel|Business|            562|                    2|                                5|                     5|            5|             2|              2|           2|                     2|               2|               5|               3|              1|               4|          2|                        11|                     9.0|neutral or dissat...|    0|\n",
            "|  Male|   Loyal Customer| 61|Business travel|Business|            214|                    3|                                3|                     3|            3|             4|              5|           5|                     3|               3|               4|               4|              3|               3|          3|                         0|                     0.0|           satisfied|    1|\n",
            "+------+-----------------+---+---------------+--------+---------------+---------------------+---------------------------------+----------------------+-------------+--------------+---------------+------------+----------------------+----------------+----------------+----------------+---------------+----------------+-----------+--------------------------+------------------------+--------------------+-----+\n",
            "only showing top 5 rows\n",
            "\n"
          ]
        }
      ]
    },
    {
      "cell_type": "code",
      "source": [
        "# împărțirea în date de train și test\n",
        "train_airline_data, test_airline_data = airline.randomSplit([0.7, 0.3], seed=22)"
      ],
      "metadata": {
        "id": "EiC0lXzmLr8T"
      },
      "execution_count": null,
      "outputs": []
    },
    {
      "cell_type": "code",
      "source": [
        "from pyspark.ml.feature import VectorAssembler, StringIndexer, OneHotEncoder\n",
        "from pyspark.ml.classification import RandomForestClassifier\n",
        "\n",
        "# transformarea variabilelor categoriale\n",
        "gender_indexer = StringIndexer(inputCol=\"Gender\", outputCol=\"Gender Index\")\n",
        "customer_type_indexer = StringIndexer(inputCol=\"Customer Type\", outputCol=\"Customer Type Index\")\n",
        "travel_type_indexer = StringIndexer(inputCol=\"Type of Travel\", outputCol=\"Travel Type Index\")\n",
        "class_indexer = StringIndexer(inputCol=\"Class\", outputCol=\"Class Index\")\n",
        "ohe = OneHotEncoder(inputCols=[\"Gender Index\", \"Customer Type Index\", \"Travel Type Index\", \"Class Index\"], \\\n",
        "                    outputCols=[\"Gender OHE\", \"Customer Type OHE\", \"Travel Type OHE\", \"Class OHE\"])\n",
        "\n",
        "# alegerea și asamblarea coloanelor de tip feature\n",
        "cols = [c for c in airline.columns if c not in [\"Gender\", \"Customer Type\", \"Type of Travel\", \"Class\", \"satisfaction\", \"label\"]]\n",
        "cols.extend([\"Gender OHE\", \"Customer Type OHE\", \"Travel Type OHE\", \"Class OHE\"])\n",
        "assembler = VectorAssembler(inputCols=cols, outputCol=\"features\")\n",
        "\n",
        "# instanțierea modelului\n",
        "rf = RandomForestClassifier(featuresCol=\"features\", labelCol=\"label\", seed=100, bootstrap=True, maxDepth=15, numTrees=100)"
      ],
      "metadata": {
        "id": "3ZZjth4jLu7v"
      },
      "execution_count": null,
      "outputs": []
    },
    {
      "cell_type": "code",
      "source": [
        "# definirea pipeline-ului\n",
        "from pyspark.ml import Pipeline\n",
        "\n",
        "rf_pipeline = Pipeline(stages=[gender_indexer, customer_type_indexer, travel_type_indexer, class_indexer, ohe, assembler, rf])"
      ],
      "metadata": {
        "id": "e0_1kNVxMdDh"
      },
      "execution_count": null,
      "outputs": []
    },
    {
      "cell_type": "code",
      "source": [
        "# antrenarea modelului\n",
        "rf_fit = rf_pipeline.fit(train_airline_data)"
      ],
      "metadata": {
        "id": "w1aOYFPYMrCn"
      },
      "execution_count": null,
      "outputs": []
    },
    {
      "cell_type": "code",
      "source": [
        "# efectuarea predicțiilor\n",
        "pred_rf = rf_fit.transform(test_airline_data)"
      ],
      "metadata": {
        "id": "6WIz0vtKMut8"
      },
      "execution_count": null,
      "outputs": []
    },
    {
      "cell_type": "code",
      "source": [
        "# evaluarea modelului cu ajutorul metricii Area Under the Curve\n",
        "from pyspark.ml.evaluation import BinaryClassificationEvaluator\n",
        "\n",
        "rf_eval = BinaryClassificationEvaluator(rawPredictionCol='prediction', labelCol='label')\n",
        "rf_eval.evaluate(pred_rf)"
      ],
      "metadata": {
        "colab": {
          "base_uri": "https://localhost:8080/"
        },
        "id": "xdcDh7kMMx_D",
        "outputId": "1de99400-0797-48d0-fbc1-bb4a094917a2"
      },
      "execution_count": null,
      "outputs": [
        {
          "output_type": "execute_result",
          "data": {
            "text/plain": [
              "0.956871632231871"
            ]
          },
          "metadata": {},
          "execution_count": 9
        }
      ]
    },
    {
      "cell_type": "markdown",
      "source": [
        "## Folosirea Structured Streaming pentru predicția în timp real\n",
        "\n",
        "Împărțim setul de date de test în 10 și salvăm fișierele într-un folder separat.\n",
        "\n",
        "Apoi citim datele sub formă de stream, aplicăm modelul antrenat pe ele și evaluăm performanța. Pentru a scoate în evidență procesul de streaming vom aștepta câteva secunde între apelurile modelului și vom afișa de fiecare dată numărul de linii ale DataFrame-ului."
      ],
      "metadata": {
        "id": "KiKciv4zRLIT"
      }
    },
    {
      "cell_type": "code",
      "source": [
        "# repartiționăm datele de test în 10 și salvăm fișierele create\n",
        "test_data = test_airline_data.repartition(10)\n",
        "\n",
        "import os\n",
        "import shutil\n",
        "\n",
        "dir_path = \"/content/drive/MyDrive/Proiect Big Data/streaming/\"\n",
        "\n",
        "if os.path.exists(dir_path):\n",
        "  shutil.rmtree(dir_path, ignore_errors=True)\n",
        "\n",
        "test_data.write.format(\"CSV\").option(\"header\", True).save(dir_path)"
      ],
      "metadata": {
        "id": "RJLtro1hRMGD"
      },
      "execution_count": null,
      "outputs": []
    },
    {
      "cell_type": "code",
      "source": [
        "# definirea schemei pentru procesul de streaming\n",
        "from pyspark.sql.types import StructType, StructField, IntegerType, StringType, DoubleType\n",
        "\n",
        "schema = StructType([StructField(\"Gender\", StringType(), True),\n",
        "                     StructField(\"Customer Type\", StringType(), True),\n",
        "                     StructField(\"Age\", IntegerType(), True),\n",
        "                     StructField(\"Type of Travel\", StringType(), True),\n",
        "                     StructField(\"Class\", StringType(), True),\n",
        "                     StructField(\"Flight Distance\", IntegerType(), True),\n",
        "                     StructField(\"Inflight wifi service\", IntegerType(), True),\n",
        "                     StructField(\"Departure/Arrival time convenient\", IntegerType(), True),\n",
        "                     StructField(\"Ease of Online booking\", IntegerType(), True),\n",
        "                     StructField(\"Gate location\", IntegerType(), True),\n",
        "                     StructField(\"Food and drink\", IntegerType(), True),\n",
        "                     StructField(\"Online boarding\", IntegerType(), True),\n",
        "                     StructField(\"Seat comfort\", IntegerType(), True),\n",
        "                     StructField(\"Inflight entertainment\", IntegerType(), True),\n",
        "                     StructField(\"On-board service\", IntegerType(), True),\n",
        "                     StructField(\"Leg room service\", IntegerType(), True),\n",
        "                     StructField(\"Baggage handling\", IntegerType(), True),\n",
        "                     StructField(\"Checkin service\", IntegerType(), True),\n",
        "                     StructField(\"Inflight service\", IntegerType(), True),\n",
        "                     StructField(\"Cleanliness\", IntegerType(), True),\n",
        "                     StructField(\"Departure Delay in Minutes\", IntegerType(), True),\n",
        "                     StructField(\"Arrival Delay in Minutes\", DoubleType(), True),\n",
        "                     StructField(\"satisfaction\", StringType(), True),\n",
        "                     StructField(\"label\", IntegerType(), True)\n",
        "                     ])"
      ],
      "metadata": {
        "id": "5SdhZW1nUH5w"
      },
      "execution_count": null,
      "outputs": []
    },
    {
      "cell_type": "code",
      "source": [
        "sourceStream = spark.readStream.schema(schema) \\\n",
        "                               .option(\"maxFilesPerTrigger\", 1) \\\n",
        "                               .csv(dir_path, header=True)\n",
        "\n",
        "streamingPredictions = rf_fit.transform(sourceStream)\n",
        "\n",
        "streamingPredictions.isStreaming"
      ],
      "metadata": {
        "colab": {
          "base_uri": "https://localhost:8080/"
        },
        "id": "88EoOQcWS_UJ",
        "outputId": "6dde8c73-4a34-49be-ab1d-a3f2a3d18963"
      },
      "execution_count": null,
      "outputs": [
        {
          "output_type": "execute_result",
          "data": {
            "text/plain": [
              "True"
            ]
          },
          "metadata": {},
          "execution_count": 22
        }
      ]
    },
    {
      "cell_type": "code",
      "source": [
        "# efectuarea predicțiilor\n",
        "query = streamingPredictions.writeStream.format(\"memory\").queryName(\"predictions\").start()"
      ],
      "metadata": {
        "id": "C1u9NAYsXM7c"
      },
      "execution_count": null,
      "outputs": []
    },
    {
      "cell_type": "code",
      "source": [
        "from pyspark.sql.functions import monotonically_increasing_id\n",
        "import time\n",
        "\n",
        "time.sleep(10)\n",
        "\n",
        "pred = spark.sql(\"SELECT * FROM predictions\")\n",
        "\n",
        "pred.withColumn(\"index\", monotonically_increasing_id()) \\\n",
        "    .orderBy(col(\"index\").desc()).drop(\"index\") \\\n",
        "    .select([\"Gender\", \"Customer Type\", \"Age\", \"Type of Travel\", \"Class\", \"label\", \"probability\", \"prediction\"]).show(5)\n",
        "\n",
        "print(f\"\\nNumber of lines: {pred.count()}\\nCurrent AUC: {rf_eval.evaluate(pred)}\")"
      ],
      "metadata": {
        "colab": {
          "base_uri": "https://localhost:8080/"
        },
        "id": "akTuUC8dbrEf",
        "outputId": "e2b83952-0082-4e02-f08f-6c62fd19e7f7"
      },
      "execution_count": null,
      "outputs": [
        {
          "output_type": "stream",
          "name": "stdout",
          "text": [
            "+------+--------------+---+---------------+--------+-----+--------------------+----------+\n",
            "|Gender| Customer Type|Age| Type of Travel|   Class|label|         probability|prediction|\n",
            "+------+--------------+---+---------------+--------+-----+--------------------+----------+\n",
            "|Female|Loyal Customer| 34|Business travel|Business|    1|[0.00675710154727...|       1.0|\n",
            "|  Male|Loyal Customer| 35|Business travel|     Eco|    1|[0.15491418905770...|       1.0|\n",
            "|Female|Loyal Customer| 49|Personal Travel|     Eco|    0|[0.99935691604687...|       0.0|\n",
            "|  Male|Loyal Customer| 28|Personal Travel|Business|    0|[0.95385580357144...|       0.0|\n",
            "|Female|Loyal Customer| 52|Personal Travel|Business|    0|[0.96886090550094...|       0.0|\n",
            "+------+--------------+---+---------------+--------+-----+--------------------+----------+\n",
            "only showing top 5 rows\n",
            "\n",
            "\n",
            "Number of lines: 6240\n",
            "Current AUC: 0.9582375174930883\n"
          ]
        }
      ]
    },
    {
      "cell_type": "code",
      "source": [
        "time.sleep(10)\n",
        "\n",
        "pred = spark.sql(\"SELECT * FROM predictions\")\n",
        "\n",
        "pred.withColumn(\"index\", monotonically_increasing_id()) \\\n",
        "    .orderBy(col(\"index\").desc()).drop(\"index\") \\\n",
        "    .select([\"Gender\", \"Customer Type\", \"Age\", \"Type of Travel\", \"Class\", \"label\", \"probability\", \"prediction\"]).show(5)\n",
        "\n",
        "print(f\"\\nNumber of lines: {pred.count()}\\nCurrent AUC: {rf_eval.evaluate(pred)}\")"
      ],
      "metadata": {
        "colab": {
          "base_uri": "https://localhost:8080/"
        },
        "id": "pKDJclzzf6n5",
        "outputId": "9e9287d1-c489-4312-a44c-efc7b79449b7"
      },
      "execution_count": null,
      "outputs": [
        {
          "output_type": "stream",
          "name": "stdout",
          "text": [
            "+------+--------------+---+---------------+--------+-----+--------------------+----------+\n",
            "|Gender| Customer Type|Age| Type of Travel|   Class|label|         probability|prediction|\n",
            "+------+--------------+---+---------------+--------+-----+--------------------+----------+\n",
            "|Female|Loyal Customer| 79|Business travel|Business|    0|[0.95080963005910...|       0.0|\n",
            "|Female|Loyal Customer| 34|Personal Travel|     Eco|    0|[0.98937353239300...|       0.0|\n",
            "|Female|Loyal Customer| 33|Business travel|Business|    1|[0.00400980220227...|       1.0|\n",
            "|Female|Loyal Customer| 15|Business travel|Business|    0|[0.91237485695802...|       0.0|\n",
            "|  Male|Loyal Customer|  8|Personal Travel|Business|    1|[0.55988486601351...|       0.0|\n",
            "+------+--------------+---+---------------+--------+-----+--------------------+----------+\n",
            "only showing top 5 rows\n",
            "\n",
            "\n",
            "Number of lines: 15601\n",
            "Current AUC: 0.9555831224815547\n"
          ]
        }
      ]
    },
    {
      "cell_type": "code",
      "source": [
        "time.sleep(10)\n",
        "\n",
        "pred = spark.sql(\"SELECT * FROM predictions\")\n",
        "\n",
        "pred.withColumn(\"index\", monotonically_increasing_id()) \\\n",
        "    .orderBy(col(\"index\").desc()).drop(\"index\") \\\n",
        "    .select([\"Gender\", \"Customer Type\", \"Age\", \"Type of Travel\", \"Class\", \"label\", \"probability\", \"prediction\"]).show(5)\n",
        "\n",
        "print(f\"\\nNumber of lines: {pred.count()}\\nCurrent AUC: {rf_eval.evaluate(pred)}\")"
      ],
      "metadata": {
        "colab": {
          "base_uri": "https://localhost:8080/"
        },
        "id": "xHbvWQDegKRM",
        "outputId": "13696c99-65de-495d-c429-84555ad3fc5a"
      },
      "execution_count": null,
      "outputs": [
        {
          "output_type": "stream",
          "name": "stdout",
          "text": [
            "+------+-----------------+---+---------------+--------+-----+--------------------+----------+\n",
            "|Gender|    Customer Type|Age| Type of Travel|   Class|label|         probability|prediction|\n",
            "+------+-----------------+---+---------------+--------+-----+--------------------+----------+\n",
            "|  Male|   Loyal Customer| 34|Personal Travel|     Eco|    0|[0.99901953384427...|       0.0|\n",
            "|  Male|   Loyal Customer| 40|Business travel|Business|    0|[0.64287888443651...|       0.0|\n",
            "|  Male|disloyal Customer| 26|Business travel|     Eco|    0|[0.89145069444397...|       0.0|\n",
            "|Female|   Loyal Customer| 49|Personal Travel|     Eco|    0|[0.98666903019781...|       0.0|\n",
            "|  Male|   Loyal Customer| 57|Business travel|     Eco|    0|[0.98354241106963...|       0.0|\n",
            "+------+-----------------+---+---------------+--------+-----+--------------------+----------+\n",
            "only showing top 5 rows\n",
            "\n",
            "\n",
            "Number of lines: 21841\n",
            "Current AUC: 0.9567474969906583\n"
          ]
        }
      ]
    },
    {
      "cell_type": "code",
      "source": [
        "query.stop()"
      ],
      "metadata": {
        "id": "tubecBMXcQZh"
      },
      "execution_count": null,
      "outputs": []
    }
  ]
}